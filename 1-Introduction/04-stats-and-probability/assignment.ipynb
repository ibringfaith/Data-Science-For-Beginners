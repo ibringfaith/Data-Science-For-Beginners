{
 "cells": [
  {
   "cell_type": "markdown",
   "metadata": {},
   "source": [
    "## Introduction to Probability and Statistics\n",
    "## Assignment\n",
    "\n",
    "In this assignment, we will use the dataset of diabetes patients taken [from here](https://www4.stat.ncsu.edu/~boos/var.select/diabetes.html)."
   ]
  },
  {
   "cell_type": "code",
   "execution_count": 1,
   "metadata": {},
   "outputs": [
    {
     "data": {
      "text/html": [
       "<div>\n",
       "<style scoped>\n",
       "    .dataframe tbody tr th:only-of-type {\n",
       "        vertical-align: middle;\n",
       "    }\n",
       "\n",
       "    .dataframe tbody tr th {\n",
       "        vertical-align: top;\n",
       "    }\n",
       "\n",
       "    .dataframe thead th {\n",
       "        text-align: right;\n",
       "    }\n",
       "</style>\n",
       "<table border=\"1\" class=\"dataframe\">\n",
       "  <thead>\n",
       "    <tr style=\"text-align: right;\">\n",
       "      <th></th>\n",
       "      <th>AGE</th>\n",
       "      <th>SEX</th>\n",
       "      <th>BMI</th>\n",
       "      <th>BP</th>\n",
       "      <th>S1</th>\n",
       "      <th>S2</th>\n",
       "      <th>S3</th>\n",
       "      <th>S4</th>\n",
       "      <th>S5</th>\n",
       "      <th>S6</th>\n",
       "      <th>Y</th>\n",
       "    </tr>\n",
       "  </thead>\n",
       "  <tbody>\n",
       "    <tr>\n",
       "      <th>0</th>\n",
       "      <td>59</td>\n",
       "      <td>2</td>\n",
       "      <td>32.1</td>\n",
       "      <td>101.0</td>\n",
       "      <td>157</td>\n",
       "      <td>93.2</td>\n",
       "      <td>38.0</td>\n",
       "      <td>4.0</td>\n",
       "      <td>4.8598</td>\n",
       "      <td>87</td>\n",
       "      <td>151</td>\n",
       "    </tr>\n",
       "    <tr>\n",
       "      <th>1</th>\n",
       "      <td>48</td>\n",
       "      <td>1</td>\n",
       "      <td>21.6</td>\n",
       "      <td>87.0</td>\n",
       "      <td>183</td>\n",
       "      <td>103.2</td>\n",
       "      <td>70.0</td>\n",
       "      <td>3.0</td>\n",
       "      <td>3.8918</td>\n",
       "      <td>69</td>\n",
       "      <td>75</td>\n",
       "    </tr>\n",
       "    <tr>\n",
       "      <th>2</th>\n",
       "      <td>72</td>\n",
       "      <td>2</td>\n",
       "      <td>30.5</td>\n",
       "      <td>93.0</td>\n",
       "      <td>156</td>\n",
       "      <td>93.6</td>\n",
       "      <td>41.0</td>\n",
       "      <td>4.0</td>\n",
       "      <td>4.6728</td>\n",
       "      <td>85</td>\n",
       "      <td>141</td>\n",
       "    </tr>\n",
       "    <tr>\n",
       "      <th>3</th>\n",
       "      <td>24</td>\n",
       "      <td>1</td>\n",
       "      <td>25.3</td>\n",
       "      <td>84.0</td>\n",
       "      <td>198</td>\n",
       "      <td>131.4</td>\n",
       "      <td>40.0</td>\n",
       "      <td>5.0</td>\n",
       "      <td>4.8903</td>\n",
       "      <td>89</td>\n",
       "      <td>206</td>\n",
       "    </tr>\n",
       "    <tr>\n",
       "      <th>4</th>\n",
       "      <td>50</td>\n",
       "      <td>1</td>\n",
       "      <td>23.0</td>\n",
       "      <td>101.0</td>\n",
       "      <td>192</td>\n",
       "      <td>125.4</td>\n",
       "      <td>52.0</td>\n",
       "      <td>4.0</td>\n",
       "      <td>4.2905</td>\n",
       "      <td>80</td>\n",
       "      <td>135</td>\n",
       "    </tr>\n",
       "  </tbody>\n",
       "</table>\n",
       "</div>"
      ],
      "text/plain": [
       "   AGE  SEX   BMI     BP   S1     S2    S3   S4      S5  S6    Y\n",
       "0   59    2  32.1  101.0  157   93.2  38.0  4.0  4.8598  87  151\n",
       "1   48    1  21.6   87.0  183  103.2  70.0  3.0  3.8918  69   75\n",
       "2   72    2  30.5   93.0  156   93.6  41.0  4.0  4.6728  85  141\n",
       "3   24    1  25.3   84.0  198  131.4  40.0  5.0  4.8903  89  206\n",
       "4   50    1  23.0  101.0  192  125.4  52.0  4.0  4.2905  80  135"
      ]
     },
     "execution_count": 1,
     "metadata": {},
     "output_type": "execute_result"
    }
   ],
   "source": [
    "import pandas as pd\n",
    "import numpy as np\n",
    "\n",
    "df = pd.read_csv(\"../../data/diabetes.tsv\",sep='\\t')\n",
    "df.head()"
   ]
  },
  {
   "cell_type": "markdown",
   "metadata": {},
   "source": [
    "\n",
    "In this dataset, columns as the following:\n",
    "* Age and sex are self-explanatory\n",
    "* BMI is body mass index\n",
    "* BP is average blood pressure\n",
    "* S1 through S6 are different blood measurements\n",
    "* Y is the qualitative measure of disease progression over one year\n",
    "\n",
    "Let's study this dataset using methods of probability and statistics.\n",
    "\n",
    "### Task 1: Compute mean values and variance for all values"
   ]
  },
  {
   "cell_type": "markdown",
   "metadata": {},
   "source": [
    "mean_age = df['AGE'].mean()\n",
    "variance_age = df['AGE'].var()\n",
    "mean_sex = df['SEX'].mean()\n",
    "variance_sex = df['SEX'].var()\n",
    "mean_bmi = df['BMI'].mean()\n",
    "variance_bmi = df['BMI'].var()\n",
    "mean_bp = df['BP'].mean()\n",
    "variance_bp = df['BP'].var()\n",
    "mean_s1 = df['S1'].mean()\n",
    "variance_s1 = df['S1'].var()\n",
    "mean_s2 = df['S2'].mean()\n",
    "variance_s2 = df['S2'].var()\n",
    "mean_s3 = df['S3'].mean()\n",
    "variance_s3 = df['S3'].var()\n",
    "mean_s4 = df['S4'].mean()\n",
    "variance_s4 = df['S4'].var()\n",
    "mean_s5 = df['S5'].mean()\n",
    "variance_s5 = df['S5'].var()\n",
    "mean_s6 = df['S6'].mean()\n",
    "variance_s6 = df['S6'].var()\n",
    "mean_y = df['Y'].mean()\n",
    "variance_y = df['Y'].var()"
   ]
  },
  {
   "cell_type": "code",
   "execution_count": 4,
   "metadata": {},
   "outputs": [
    {
     "name": "stdout",
     "output_type": "stream",
     "text": [
      "Mean of AGE: 48.51809954751131\n",
      "Variance of AGE: 171.84661043904742\n",
      "Mean of SEX: 1.4683257918552035\n",
      "Variance of SEX: 0.2495613630067412\n",
      "Mean of BMI: 26.37579185520362\n",
      "Variance of BMI: 19.519798124377957\n",
      "Mean of BP: 94.64701357466062\n",
      "Variance of BP: 191.30440103836406\n",
      "Mean of S1: 189.14027149321268\n",
      "Variance of S1: 1197.7172407424507\n",
      "Mean of S2: 115.43914027149322\n",
      "Variance of S2: 924.9554940437713\n",
      "Mean of S3: 49.78846153846154\n",
      "Variance of S3: 167.2935853828711\n",
      "Mean of S4: 4.070248868778281\n",
      "Variance of S4: 1.6652609356563137\n",
      "Mean of S5: 4.641410859728507\n",
      "Variance of S5: 0.2728918982944973\n",
      "Mean of S6: 91.26018099547511\n",
      "Variance of S6: 132.16571243882169\n",
      "Mean of Y: 152.13348416289594\n",
      "Variance of Y: 5943.331347923785\n"
     ]
    }
   ],
   "source": [
    "for col in df.columns:\n",
    "    mean = df[col].mean()\n",
    "    variance = df[col].var()\n",
    "    print(f\"Mean of {col}: {mean}\\nVariance of {col}: {variance}\")"
   ]
  },
  {
   "cell_type": "markdown",
   "metadata": {},
   "source": [
    "### Task 2: Plot boxplots for BMI, BP and Y depending on gender"
   ]
  },
  {
   "cell_type": "code",
   "execution_count": 5,
   "metadata": {},
   "outputs": [
    {
     "data": {
      "image/png": "[encoded data removed]",
      "text/plain": [
       "<Figure size 640x480 with 4 Axes>"
      ]
     },
     "metadata": {},
     "output_type": "display_data"
    }
   ],
   "source": [
    "boxplot = df.boxplot(column=['BMI', 'BP', 'Y'], by='SEX')  "
   ]
  },
  {
   "cell_type": "markdown",
   "metadata": {},
   "source": [
    "### Task 3: What is the the distribution of Age, Sex, BMI and Y variables?"
   ]
  },
  {
   "cell_type": "code",
   "execution_count": 6,
   "metadata": {},
   "outputs": [
    {
     "data": {
      "text/plain": [
       "<Axes: >"
      ]
     },
     "execution_count": 6,
     "metadata": {},
     "output_type": "execute_result"
    },
    {
     "data": {
      "image/png": "[encoded data removed]",
      "text/plain": [
       "<Figure size 640x480 with 1 Axes>"
      ]
     },
     "metadata": {},
     "output_type": "display_data"
    }
   ],
   "source": [
    "df['AGE'].hist()"
   ]
  },
  {
   "cell_type": "code",
   "execution_count": 7,
   "metadata": {},
   "outputs": [
    {
     "data": {
      "text/plain": [
       "<Axes: >"
      ]
     },
     "execution_count": 7,
     "metadata": {},
     "output_type": "execute_result"
    },
    {
     "data": {
      "image/png": "[encoded data removed]",
      "text/plain": [
       "<Figure size 640x480 with 1 Axes>"
      ]
     },
     "metadata": {},
     "output_type": "display_data"
    }
   ],
   "source": [
    "df['SEX'].hist()"
   ]
  },
  {
   "cell_type": "code",
   "execution_count": 8,
   "metadata": {},
   "outputs": [
    {
     "data": {
      "text/plain": [
       "<Axes: >"
      ]
     },
     "execution_count": 8,
     "metadata": {},
     "output_type": "execute_result"
    },
    {
     "data": {
      "image/png": "[encoded data removed]",
      "text/plain": [
       "<Figure size 640x480 with 1 Axes>"
      ]
     },
     "metadata": {},
     "output_type": "display_data"
    }
   ],
   "source": [
    "df['BMI'].hist()"
   ]
  },
  {
   "cell_type": "code",
   "execution_count": 9,
   "metadata": {},
   "outputs": [
    {
     "data": {
      "text/plain": [
       "<Axes: >"
      ]
     },
     "execution_count": 9,
     "metadata": {},
     "output_type": "execute_result"
    },
    {
     "data": {
      "image/png": "[encoded data removed]",
      "text/plain": [
       "<Figure size 640x480 with 1 Axes>"
      ]
     },
     "metadata": {},
     "output_type": "display_data"
    }
   ],
   "source": [
    "df['Y'].hist()"
   ]
  },
  {
   "cell_type": "markdown",
   "metadata": {},
   "source": [
    "### Task 4: Test the correlation between different variables and disease progression (Y)\n",
    "\n",
    "> **Hint** Correlation matrix would give you the most useful information on which values are dependent."
   ]
  },
  {
   "cell_type": "code",
   "execution_count": 10,
   "metadata": {},
   "outputs": [
    {
     "name": "stdout",
     "output_type": "stream",
     "text": [
      "Correlation between Y and AGE = 0.1878887507189198\n",
      "Correlation between Y and SEX = 0.043061998451605334\n",
      "Correlation between Y and BMI = 0.5864501344746885\n",
      "Correlation between Y and BP = 0.4414817585625714\n",
      "Correlation between Y and S1 = 0.21202248101455068\n",
      "Correlation between Y and S2 = 0.17405358696874265\n",
      "Correlation between Y and S3 = -0.3947892506709184\n",
      "Correlation between Y and S4 = 0.43045288474477267\n",
      "Correlation between Y and S5 = 0.5658825924427439\n",
      "Correlation between Y and S6 = 0.38248348424858114\n",
      "Correlation between Y and Y = 1.0\n"
     ]
    }
   ],
   "source": [
    "for col in df.columns:\n",
    "    print(f\"Correlation between Y and {col} = {np.corrcoef(df['Y'], df[col])[0,1]}\")"
   ]
  },
  {
   "cell_type": "markdown",
   "metadata": {},
   "source": [
    "### Task 5: Test the hypothesis that the degree of diabetes progression is different between men and women"
   ]
  },
  {
   "cell_type": "code",
   "execution_count": 11,
   "metadata": {},
   "outputs": [
    {
     "name": "stdout",
     "output_type": "stream",
     "text": [
      "T-value = -0.90\n",
      "P-value: 0.3674449793083975\n"
     ]
    }
   ],
   "source": [
    "from scipy.stats import ttest_ind\n",
    "\n",
    "tval, pval = ttest_ind(df.loc[df['SEX']==1,['Y']], df.loc[df['SEX']==2,['Y']],equal_var=False)\n",
    "print(f\"T-value = {tval[0]:.2f}\\nP-value: {pval[0]}\")"
   ]
  },
  {
   "cell_type": "markdown",
   "metadata": {},
   "source": [
    "There is no strong evidence that the degree of diabetes progression is different between men and women."
   ]
  }
 ],
 "metadata": {
  "kernelspec": {
   "display_name": "Python 3",
   "language": "python",
   "name": "python3"
  },
  "language_info": {
   "codemirror_mode": {
    "name": "ipython",
    "version": 3
   },
   "file_extension": ".py",
   "mimetype": "text/x-python",
   "name": "python",
   "nbconvert_exporter": "python",
   "pygments_lexer": "ipython3",
   "version": "3.12.1"
  },
  "orig_nbformat": 4
 },
 "nbformat": 4,
 "nbformat_minor": 2
}
